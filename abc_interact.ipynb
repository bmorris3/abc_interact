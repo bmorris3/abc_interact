{
 "cells": [
  {
   "cell_type": "code",
   "execution_count": null,
   "metadata": {},
   "outputs": [],
   "source": [
    "%matplotlib inline\n",
    "import matplotlib.pyplot as plt\n",
    "import numpy as np\n",
    "from astropy.stats import mad_std"
   ]
  },
  {
   "cell_type": "code",
   "execution_count": null,
   "metadata": {},
   "outputs": [],
   "source": [
    "np.random.seed(42)\n",
    "\n",
    "x = np.linspace(0, 100, 1000)\n",
    "\n",
    "true_std = 1\n",
    "true_mean = np.pi\n",
    "\n",
    "y_obs = true_mean + true_std * np.random.randn(len(x))\n",
    "\n",
    "\n",
    "plt.hist(y_obs, bins=50)\n",
    "plt.show()"
   ]
  },
  {
   "cell_type": "code",
   "execution_count": null,
   "metadata": {},
   "outputs": [],
   "source": [
    "def lnprior(theta): \n",
    "    mean, std = theta\n",
    "    \n",
    "    if -10 < mean < 10 and 0 < std < 10: \n",
    "        return 0\n",
    "    return -np.inf\n",
    "\n",
    "def propose_step(theta, scale): \n",
    "    return theta + scale * np.random.randn(len(theta))\n",
    "\n",
    "def simulate_dataset(theta): \n",
    "    mean, std = theta\n",
    "    return mean + std * np.random.randn(len(x))\n",
    "\n",
    "def summary_stats(y_sim):\n",
    "\n",
    "    distance = np.sqrt((y_obs.std() - y_sim.std())**2 / (0.01 * y_obs.std())**2 + \n",
    "                       (y_obs.mean() - y_sim.mean())**2 / y_obs.std()**2)\n",
    "    \n",
    "    return distance"
   ]
  },
  {
   "cell_type": "code",
   "execution_count": null,
   "metadata": {},
   "outputs": [],
   "source": [
    "from astropy.utils.console import ProgressBar"
   ]
  },
  {
   "cell_type": "code",
   "execution_count": null,
   "metadata": {},
   "outputs": [],
   "source": [
    "# Initial step parameters for the mean and std:\n",
    "theta = [true_mean, true_std] \n",
    "\n",
    "# Number of posterior samples to compute\n",
    "n_steps = 3000\n",
    "\n",
    "# `scale` sets the proposal step jump size\n",
    "scale = 0.1\n",
    "\n",
    "# `h` is the distance metric threshold for acceptance\n",
    "h = 1.5\n",
    "\n",
    "# Some bookkeeping variables:\n",
    "accepted_steps = 0\n",
    "samples = np.zeros((n_steps, len(theta)))\n",
    "printed = set()\n",
    "\n",
    "while accepted_steps < n_steps: \n",
    "    \n",
    "    # Make a simple progress bar:\n",
    "    if accepted_steps % 1000 == 0 and accepted_steps not in printed:\n",
    "        printed.add(accepted_steps)\n",
    "        print(f'Sample {accepted_steps} of {n_steps}')\n",
    "    \n",
    "    # Propose a new step:\n",
    "    new_theta = propose_step(theta, scale)\n",
    "    prior = lnprior(new_theta)\n",
    "\n",
    "    # If proposed step is within prior: \n",
    "    if np.isfinite(prior): \n",
    "\n",
    "        # Generate a simulated dataset from new parameters\n",
    "        y_sim = simulate_dataset(new_theta)\n",
    "\n",
    "        # Compute distance between simulated dataset\n",
    "        # and the observations\n",
    "        distance = summary_stats(y_sim)\n",
    "\n",
    "        # If distance is less than tolerance `h`, accept step:\n",
    "        if distance <= h: \n",
    "            theta = new_theta\n",
    "            samples[accepted_steps, :] = new_theta\n",
    "            accepted_steps += 1"
   ]
  },
  {
   "cell_type": "code",
   "execution_count": null,
   "metadata": {},
   "outputs": [],
   "source": [
    "from corner import corner\n",
    "\n",
    "corner(samples[n_steps//2:, :], truths=[true_mean, true_std], \n",
    "       levels=[0.6], labels=['mean', 'std']);"
   ]
  },
  {
   "cell_type": "code",
   "execution_count": null,
   "metadata": {},
   "outputs": [],
   "source": []
  },
  {
   "cell_type": "code",
   "execution_count": null,
   "metadata": {},
   "outputs": [],
   "source": []
  }
 ],
 "metadata": {
  "kernelspec": {
   "display_name": "Python 3",
   "language": "python",
   "name": "python3"
  },
  "language_info": {
   "codemirror_mode": {
    "name": "ipython",
    "version": 3
   },
   "file_extension": ".py",
   "mimetype": "text/x-python",
   "name": "python",
   "nbconvert_exporter": "python",
   "pygments_lexer": "ipython3",
   "version": "3.7.4"
  }
 },
 "nbformat": 4,
 "nbformat_minor": 4
}
